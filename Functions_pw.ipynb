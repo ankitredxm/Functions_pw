{
  "nbformat": 4,
  "nbformat_minor": 0,
  "metadata": {
    "colab": {
      "provenance": []
    },
    "kernelspec": {
      "name": "python3",
      "display_name": "Python 3"
    },
    "language_info": {
      "name": "python"
    }
  },
  "cells": [
    {
      "cell_type": "code",
      "execution_count": 6,
      "metadata": {
        "colab": {
          "base_uri": "https://localhost:8080/"
        },
        "id": "UrU8yJ1dO8AX",
        "outputId": "5fc3508f-226d-4e2d-ab47-ebf7dddfd786"
      },
      "outputs": [
        {
          "output_type": "stream",
          "name": "stdout",
          "text": [
            "ankit good morning\n",
            "ankit good morning\n"
          ]
        }
      ],
      "source": [
        "'''1. What is the difference between a function and a method in Python?\n",
        "\n",
        "Functions:\n",
        "1)Can exist independently\n",
        "2)intialized with def keyword\n",
        "3)can called directly by name'''\n",
        "\n",
        "#example\n",
        "def greet(name):\n",
        "  return f\"{name} good morning\"\n",
        "print(greet(\"ankit\"))\n",
        "\n",
        "'''\n",
        "methods are associated with some class\n",
        "They can be called using object or instance of class\n",
        "'''\n",
        "\n",
        "#example\n",
        "class hello:\n",
        "  def __init__(self, name):\n",
        "        self.name = name\n",
        "  def greet(self):\n",
        "    return f\"{self.name} good morning\"\n",
        "P=hello(\"ankit\")\n",
        "print(P.greet())"
      ]
    },
    {
      "cell_type": "code",
      "source": [
        "'''2. Explain the concept of function arguments and parameters in Python.'''\n",
        "\n",
        "# Ans--> 1)) Function arguments are the actual variables which we are passing to the function\n",
        "#        2)) Parameters are defined in funtions itself and its scope is in function itself\n",
        "# Example\n",
        "def greet(name): # Here the name is the parameter which we have passed it\n",
        "  return f\"hi {name} how are you\"\n",
        "\n",
        "print(\"Ankit\")  #--< here the actual argument is\"ankit\" so it is argument\n"
      ],
      "metadata": {
        "colab": {
          "base_uri": "https://localhost:8080/"
        },
        "id": "ClREjpfERdW_",
        "outputId": "92940168-9898-476b-b73a-e27152b8e3e5"
      },
      "execution_count": 7,
      "outputs": [
        {
          "output_type": "stream",
          "name": "stdout",
          "text": [
            "Ankit\n"
          ]
        }
      ]
    },
    {
      "cell_type": "code",
      "source": [
        "'''3. What are the different ways to define and call a function in Python?'''\n",
        "\n",
        "#1) Without Parameters\n",
        "def greet():\n",
        "  print(\"hello World!\")\n",
        "greet()\n",
        "\n",
        "\n",
        "#2) with Parameters\n",
        "def greet(name):\n",
        "  print(f\"hello {name}\")\n",
        "greet(\"ankit\")\n",
        "\n",
        "\n",
        "#3) with default parameters\n",
        "def greet(name=\"ankit\"):\n",
        "  print(f\"hello {name}\")\n",
        "greet()\n",
        "\n",
        "\n",
        "#4) with default and normal parameters\n",
        "def greet(name,message=\"Good morning\"):\n",
        "  print(f\"hello {name} {message}\")\n",
        "greet(\"ankit\")\n",
        "greet(\"ankit\",\"Good night\") # with passing value to default argument\n",
        "\n",
        "#5) with return statement\n",
        "def greet(name):\n",
        "  return f\"hello {name}\"\n",
        "print(greet(\"ankit\"))"
      ],
      "metadata": {
        "colab": {
          "base_uri": "https://localhost:8080/"
        },
        "id": "hTY-yp2TTrTt",
        "outputId": "094ccaf4-d267-4aee-ffa9-6440992c479c"
      },
      "execution_count": 9,
      "outputs": [
        {
          "output_type": "stream",
          "name": "stdout",
          "text": [
            "hello World!\n",
            "hello ankit\n",
            "hello ankit\n",
            "hello ankit Good morning\n",
            "hello ankit Good night\n",
            "hello ankit\n"
          ]
        }
      ]
    },
    {
      "cell_type": "code",
      "source": [
        "'''4. What is the purpose of the `return` statement in a Python function?'''\n",
        "# Ans : Return statement enables to pass the value to other variable\n",
        "# example\n",
        "l=[1,2,3,4,5]\n",
        "def evenno(l):\n",
        "  n=[]\n",
        "  for i in l:\n",
        "    if(i%2==0):\n",
        "      n.append(i)\n",
        "  return n         #---> it passes the value rather to print\n",
        "\n",
        "print(evenno(l))\n",
        ""
      ],
      "metadata": {
        "colab": {
          "base_uri": "https://localhost:8080/"
        },
        "id": "YQhx15RVVfBi",
        "outputId": "0c0bb444-eacd-48a7-a822-82c31b95b194"
      },
      "execution_count": 10,
      "outputs": [
        {
          "output_type": "stream",
          "name": "stdout",
          "text": [
            "[2, 4]\n"
          ]
        }
      ]
    },
    {
      "cell_type": "code",
      "source": [
        "'''5. What are iterators in Python and how do they differ from iterables?'''\n",
        "#Ans: iterables: list,tuple they are the iterables\n",
        "#     they can be iterated through loops\n",
        "lst=[23,22,12,\"Ankit\"]\n",
        "tup=(1,2,3,\"Ankit\")\n",
        "dict={\"a\":23,\"varun\":34,\"karun\":78}\n",
        "\n",
        "for i in lst:  ## list iterable\n",
        "  print(i)\n",
        "\n",
        "for i in tup: ## tuple iterable\n",
        "  print(i)\n",
        "\n",
        "for i,j in dict.items(): ## dict iterable\n",
        "  print(i,j)\n",
        "\n",
        "#iterator: iterator is an object which remebers its position and contains next address when requested\n",
        "lst=[12,23,4,5,6,7,\"Ankit\"]\n",
        "lt=iter(lst)\n",
        "print(lt)\n",
        "print(next(lt))\n",
        "print(next(lt))\n",
        "print(next(lt))\n",
        "print(next(lt))\n",
        "print(next(lt))\n",
        "print(next(lt))\n",
        "print(next(lt))"
      ],
      "metadata": {
        "colab": {
          "base_uri": "https://localhost:8080/"
        },
        "id": "u3i_1mpdbD0O",
        "outputId": "96bdfd8c-be9b-4e7c-a377-2a7d8cef5fff"
      },
      "execution_count": 20,
      "outputs": [
        {
          "output_type": "stream",
          "name": "stdout",
          "text": [
            "23\n",
            "22\n",
            "12\n",
            "Ankit\n",
            "1\n",
            "2\n",
            "3\n",
            "Ankit\n",
            "a 23\n",
            "varun 34\n",
            "karun 78\n",
            "<list_iterator object at 0x7a990d07f820>\n",
            "12\n",
            "23\n",
            "4\n",
            "5\n",
            "6\n",
            "7\n",
            "Ankit\n"
          ]
        }
      ]
    },
    {
      "cell_type": "code",
      "source": [
        "'''6. Explain the concept of generators in Python and how they are defined.'''\n",
        "#Ans:  generators are the iterator which used to generate values lazily (when request comes)\n",
        "       #importance of generator object\n",
        "       #1) it generates value one at a time\n",
        "       #3) it helps save memory\n",
        "       #4) it is good to go when dealing with large performers\n",
        "\n",
        "def fibo(n):\n",
        "\n",
        "  a,b=0,1\n",
        "  for i in range(n):\n",
        "        yield a\n",
        "        a,b=b,a+b\n",
        "\n",
        "gen=fibo(10)   ## it has only one value at a time\n",
        "print(next(gen))\n",
        "print(next(gen))\n",
        "print(next(gen))\n",
        "print(next(gen))\n",
        "print(next(gen))\n",
        "print(next(gen))\n",
        "print(next(gen))"
      ],
      "metadata": {
        "colab": {
          "base_uri": "https://localhost:8080/"
        },
        "id": "sEUHqS5Fd4li",
        "outputId": "5f24f661-9385-4ff7-eef9-f4e9c193af83"
      },
      "execution_count": 23,
      "outputs": [
        {
          "output_type": "stream",
          "name": "stdout",
          "text": [
            "0\n",
            "1\n",
            "1\n",
            "2\n",
            "3\n",
            "5\n",
            "8\n"
          ]
        }
      ]
    },
    {
      "cell_type": "code",
      "source": [
        "'''7. What are the advantages of using generators over regular functions?\n",
        "'''\n",
        "#Ans generators generates one value at a time\n",
        "#generators are the iterator which used to generate values lazily (when request comes)\n",
        "       #importance of generator object\n",
        "       #1) it generates value one at a time\n",
        "       #3) it helps save memory\n",
        "       #4) it is good to go when dealing with large performers\n",
        "\n"
      ],
      "metadata": {
        "id": "mMYaOXdViO_Z"
      },
      "execution_count": null,
      "outputs": []
    },
    {
      "cell_type": "code",
      "source": [
        "##8. What is a lambda function in Python and when is it typically used?\n",
        "\n",
        "#Ans:-- Lambda function is used make a regural function write in short form\n",
        "\n",
        "fun=lambda x:x+3\n",
        "print(fun(3))\n",
        "\n",
        "fun=lambda x,y:x*y\n",
        "print(fun(1,5))"
      ],
      "metadata": {
        "colab": {
          "base_uri": "https://localhost:8080/"
        },
        "id": "Q4oESIqHkpD_",
        "outputId": "98682487-d1b7-473e-abc2-a34529a753ce"
      },
      "execution_count": 25,
      "outputs": [
        {
          "output_type": "stream",
          "name": "stdout",
          "text": [
            "6\n",
            "5\n"
          ]
        }
      ]
    },
    {
      "cell_type": "code",
      "source": [
        "'''9. Explain the purpose and usage of the `map()` function in Python.\n",
        "'''\n",
        "#Ans Maps are useful to iterables directly to the functions\n",
        "\n",
        "list(map(lambda x:x*2 if x%2==0 else x*3,[1,2,3,4,5,6,7,8,9]))"
      ],
      "metadata": {
        "colab": {
          "base_uri": "https://localhost:8080/"
        },
        "id": "oO2AZ5mhlSB0",
        "outputId": "968636a8-d27c-46d6-fcdd-c069a6fc1e95"
      },
      "execution_count": 26,
      "outputs": [
        {
          "output_type": "execute_result",
          "data": {
            "text/plain": [
              "[3, 4, 9, 8, 15, 12, 21, 16, 27]"
            ]
          },
          "metadata": {},
          "execution_count": 26
        }
      ]
    },
    {
      "cell_type": "code",
      "source": [
        "'''\n",
        "10. What is the difference between `map()`, `reduce()`, and `filter()` functions in Python?\n",
        "'''\n",
        "# Ans\n",
        "# map() it is used to get functions iterables directly\n",
        "# filter() it is used to provide conditions directly to the functions\n",
        "# reduce() it is used to get a single value from the fun\n",
        "from functools import reduce\n",
        "\n",
        "\n",
        "print(list(map(lambda x:x*2 if x%2==0 else x*3,[1,2,3,4,5,6,7,8,9])))\n",
        "print(reduce(lambda x,y:x+y,[1,2,3,4,5,6,7,8,9]))\n",
        "print(list(filter(lambda x:x%2==0,[1,2,3,4,5,6,7,8,9])))\n"
      ],
      "metadata": {
        "colab": {
          "base_uri": "https://localhost:8080/"
        },
        "id": "1p9P1JX8l31u",
        "outputId": "9a3c54ba-efd3-4ef1-df2b-7e13a22ed0e9"
      },
      "execution_count": 27,
      "outputs": [
        {
          "output_type": "stream",
          "name": "stdout",
          "text": [
            "[3, 4, 9, 8, 15, 12, 21, 16, 27]\n",
            "45\n",
            "[2, 4, 6, 8]\n"
          ]
        }
      ]
    },
    {
      "cell_type": "code",
      "source": [
        "'''\n",
        "11. Using pen & Paper write the internal mechanism for sum operation using  reduce function on this given\n",
        "list:[47,11,42,13];\n",
        "'''\n",
        "from functools import reduce\n",
        "print(reduce(lambda x,y:x+y,[47,11,42,13]))\n",
        "\n",
        "https://drive.google.com/file/d/1-2kyheBxREtEWH442CgBNY8g6OFjCINA/view?usp=drive_link\n"
      ],
      "metadata": {
        "id": "vSDZqsGsrskE"
      },
      "execution_count": null,
      "outputs": []
    },
    {
      "cell_type": "code",
      "source": [
        "#1. Write a Python function that takes a list of numbers as input and returns the sum of all even numbers in\n",
        "#the list.\n",
        "\n",
        "def evenno(l):\n",
        "  sum=0\n",
        "  for i in l:\n",
        "    if(i%2==0):\n",
        "      sum+=i\n",
        "  return sum\n",
        "\n",
        "print(evenno([1,2,3,4,5,6,7,8,9]))"
      ],
      "metadata": {
        "colab": {
          "base_uri": "https://localhost:8080/"
        },
        "id": "Sux84vVRteKQ",
        "outputId": "e714446a-7265-4997-a698-edff7fbd0af0"
      },
      "execution_count": 30,
      "outputs": [
        {
          "output_type": "stream",
          "name": "stdout",
          "text": [
            "20\n"
          ]
        }
      ]
    },
    {
      "cell_type": "code",
      "source": [
        "#2. Create a Python function that accepts a string and returns the reverse of that string.\n",
        "def rev(s):\n",
        "  st=\"\"\n",
        "  i=len(s)\n",
        "  while(i>0):\n",
        "    st+=s[i-1]\n",
        "    i-=1\n",
        "  return st\n",
        "\n",
        "print(rev(\"Ankit Kumar\"))"
      ],
      "metadata": {
        "colab": {
          "base_uri": "https://localhost:8080/"
        },
        "id": "7hyYXvJCuEjy",
        "outputId": "c23ac6c7-7a49-42d7-8fa2-a5ebdb5c82af"
      },
      "execution_count": 31,
      "outputs": [
        {
          "output_type": "stream",
          "name": "stdout",
          "text": [
            "ramuK tiknA\n"
          ]
        }
      ]
    },
    {
      "cell_type": "code",
      "source": [
        "# 3. Implement a Python function that takes a list of integers and returns a new list containing the squares of\n",
        "# each number.\n",
        "\n",
        "def square(l):\n",
        "  lst=[]\n",
        "  for i in l:\n",
        "    lst.append(i*i)\n",
        "  return lst\n",
        "\n",
        "print(square([1,2,3,4,5,6,7]))\n"
      ],
      "metadata": {
        "colab": {
          "base_uri": "https://localhost:8080/"
        },
        "id": "twoWVQ_8un4o",
        "outputId": "086cc6ea-0c41-465c-ac96-e63267fa69cd"
      },
      "execution_count": 34,
      "outputs": [
        {
          "output_type": "stream",
          "name": "stdout",
          "text": [
            "[1, 4, 9, 16, 25, 36, 49]\n"
          ]
        }
      ]
    },
    {
      "cell_type": "code",
      "source": [
        "# 4. Write a Python function that checks if a given number is prime or not from 1 to 200.\n",
        "def isprime(n):\n",
        "  for i in range(2,n):\n",
        "    if(n%i==0):\n",
        "      return False\n",
        "  return True\n",
        "\n",
        "\n",
        "\n",
        "def prime_no_upto(n):\n",
        "  for i in range(2,n):\n",
        "    if(isprime(i)):\n",
        "      print(i,end=\" \")\n",
        "\n",
        "prime_no_upto(200)"
      ],
      "metadata": {
        "colab": {
          "base_uri": "https://localhost:8080/"
        },
        "id": "nUVCDXG7u_Jo",
        "outputId": "7b59d6d8-394d-408c-9c15-de76cd1c9eb2"
      },
      "execution_count": 39,
      "outputs": [
        {
          "output_type": "stream",
          "name": "stdout",
          "text": [
            "2 3 5 7 11 13 17 19 23 29 31 37 41 43 47 53 59 61 67 71 73 79 83 89 97 101 103 107 109 113 127 131 137 139 149 151 157 163 167 173 179 181 191 193 197 199 "
          ]
        }
      ]
    },
    {
      "cell_type": "code",
      "source": [
        "# 5. Create an iterator class in Python that generates the Fibonacci sequence up to a specified number of\n",
        "# terms.\n",
        "\n",
        "def fibo(n):\n",
        "  a=0\n",
        "  b=1\n",
        "  for i in range(n):\n",
        "    yield a\n",
        "    a,b=b,a+b\n",
        "\n",
        "gen=fibo(10)\n",
        "print(next(gen))\n",
        "print(next(gen))\n",
        "print(next(gen))\n",
        "print(next(gen))\n",
        "print(next(gen))\n",
        "print(next(gen))"
      ],
      "metadata": {
        "colab": {
          "base_uri": "https://localhost:8080/"
        },
        "id": "Lkw7PNFTwdQE",
        "outputId": "1292b6d3-d897-415e-fe82-40a4258f1982"
      },
      "execution_count": 41,
      "outputs": [
        {
          "output_type": "stream",
          "name": "stdout",
          "text": [
            "0\n",
            "1\n",
            "1\n",
            "2\n",
            "3\n",
            "5\n"
          ]
        }
      ]
    },
    {
      "cell_type": "code",
      "source": [
        "# 6. Write a generator function in Python that yields the powers of 2 up to a given exponent.\n",
        "\n",
        "def pow(n):\n",
        "  yield 2**n\n",
        "\n",
        "gen=pow(100)\n",
        "print(next(gen))"
      ],
      "metadata": {
        "colab": {
          "base_uri": "https://localhost:8080/"
        },
        "id": "JQEc1TlJxaK0",
        "outputId": "5090061a-c1c9-4720-f56f-e564c50b73b0"
      },
      "execution_count": 42,
      "outputs": [
        {
          "output_type": "stream",
          "name": "stdout",
          "text": [
            "1267650600228229401496703205376\n"
          ]
        }
      ]
    },
    {
      "cell_type": "code",
      "source": [
        "# 7. Implement a generator function that reads a file line by line and yields each line as a string.\n",
        "\n",
        "with open(\"ankit.txt\",\"w\") as file:\n",
        "  file.write(\"Ankit is a good boy\\n\")\n",
        "  file.write(\"Ankit studies in Vit Vellore\")\n",
        "\n",
        "def readt(file_path):\n",
        "    with open(file_path,\"r\") as file:\n",
        "     for line in file:\n",
        "        yield line.strip()\n",
        "\n",
        "gen=readt(\"ankit.txt\")\n",
        "print(next(gen))\n",
        "print(next(gen))\n"
      ],
      "metadata": {
        "colab": {
          "base_uri": "https://localhost:8080/"
        },
        "id": "STAZ9_o4x635",
        "outputId": "e7cee2f1-7eae-445e-ff0f-e1a8f9fdcd19"
      },
      "execution_count": 50,
      "outputs": [
        {
          "output_type": "stream",
          "name": "stdout",
          "text": [
            "Ankit is a good boy\n",
            "Ankit studies in Vit Vellore\n"
          ]
        }
      ]
    },
    {
      "cell_type": "code",
      "source": [
        "# 8. Use a lambda function in Python to sort a list of tuples based on the second element of each tuple.\n",
        "tup=[(1, 5), (3, 2), (7, 8), (2, 1)]\n",
        "\n",
        "new_tup=sorted(tup,key=lambda x:x[1])  # sorts by second elemnt\n",
        "print(new_tup)"
      ],
      "metadata": {
        "colab": {
          "base_uri": "https://localhost:8080/"
        },
        "id": "LrJUJwWj1j6f",
        "outputId": "b299a35e-1904-44c5-eb57-c62ff8c79725"
      },
      "execution_count": 65,
      "outputs": [
        {
          "output_type": "stream",
          "name": "stdout",
          "text": [
            "[(2, 1), (3, 2), (1, 5), (7, 8)]\n"
          ]
        }
      ]
    },
    {
      "cell_type": "code",
      "source": [
        "# 9. Write a Python program that uses `map()` to convert a list of temperatures from Celsius to Fahrenheit.\n",
        "lst=[35,52,12,8,67,47]\n",
        "\n",
        "print(list(map(lambda x:(x*(9/5)+32),lst)))"
      ],
      "metadata": {
        "colab": {
          "base_uri": "https://localhost:8080/"
        },
        "id": "zNPY-SgR4WYH",
        "outputId": "99639d37-49a1-429e-d5d1-93cd605a4ec6"
      },
      "execution_count": 66,
      "outputs": [
        {
          "output_type": "stream",
          "name": "stdout",
          "text": [
            "[95.0, 125.60000000000001, 53.6, 46.4, 152.60000000000002, 116.60000000000001]\n"
          ]
        }
      ]
    },
    {
      "cell_type": "code",
      "source": [
        "string=\"ankit is a good boy\"\n",
        "vowels=\"aeiou\"\n",
        "lst=[]\n",
        "lst=list(filter(lambda x:x not in vowels,string))\n",
        "print(\"\".join(lst))"
      ],
      "metadata": {
        "colab": {
          "base_uri": "https://localhost:8080/"
        },
        "id": "SlggcwNI4311",
        "outputId": "7aeb859a-73f0-4526-9f9c-b450dd09cdd6"
      },
      "execution_count": 70,
      "outputs": [
        {
          "output_type": "stream",
          "name": "stdout",
          "text": [
            "nkt s  gd by\n"
          ]
        }
      ]
    },
    {
      "cell_type": "code",
      "source": [
        "# 11) Imagine an accounting routine used in a book shop. It works on a list with sublists, which look like this:\n",
        "# Write a Python program, which returns a list with 2-tuples. Each tuple consists of the order number and the\n",
        "# product of the price per item and the quantity. The product should be increased by 10,- € if the value of the\n",
        "# order is smaller than 100,00 €.\n",
        "\n",
        "# Write a Python program using lambda and map.\n",
        "\n",
        "l=[]  #answer list\n",
        "lst=[[34587,\"learning python, Mark Lutz\",4,40.95],\n",
        " [98762,\"Programming Python,Mark Lutz\",5,56.80],\n",
        "  [77226,\"Head First Python, Paul Barry\",3,32.95],\n",
        "   [88112,\"Einfuhrung in Python3,Bernd Klein\",3,24.99]]\n",
        "\n",
        "\n",
        "l=list(map(lambda x:(x[0],x[2]*x[3]+10 if x[2]*x[3]<10000 else x[2]*x[3]),lst))\n",
        "print(l)"
      ],
      "metadata": {
        "colab": {
          "base_uri": "https://localhost:8080/"
        },
        "id": "gHjv2W9G5z5-",
        "outputId": "0b8edbe5-4388-4b7d-8f4a-e288e4b180f4"
      },
      "execution_count": 71,
      "outputs": [
        {
          "output_type": "stream",
          "name": "stdout",
          "text": [
            "[(34587, 173.8), (98762, 294.0), (77226, 108.85000000000001), (88112, 84.97)]\n"
          ]
        }
      ]
    }
  ]
}